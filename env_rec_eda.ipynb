{
 "cells": [
  {
   "cell_type": "markdown",
   "metadata": {},
   "source": [
    "Big Question: Which counties hurt the environment the most overall? Per capita?\n",
    "\n",
    "Questions:  \n",
    "        1) Which counties emit the most gas? (by specific gas?)\n",
    "        2)"
   ]
  },
  {
   "cell_type": "code",
   "execution_count": 72,
   "metadata": {},
   "outputs": [],
   "source": [
    "import numpy as np\n",
    "import pandas as pd\n",
    "import seaborn as sns\n",
    "import matplotlib.pyplot as plt"
   ]
  },
  {
   "cell_type": "code",
   "execution_count": 73,
   "metadata": {},
   "outputs": [],
   "source": [
    "df = pd.read_csv('environment-recreation-and-resources-linc.csv', sep = ';')\n",
    "county_df = df[df['Area Type'] == 'County']\n",
    "nc_fips = pd.read_csv('nc_county_fips.csv')"
   ]
  },
  {
   "cell_type": "code",
   "execution_count": 74,
   "metadata": {},
   "outputs": [
    {
     "data": {
      "text/html": [
       "<div>\n",
       "<style scoped>\n",
       "    .dataframe tbody tr th:only-of-type {\n",
       "        vertical-align: middle;\n",
       "    }\n",
       "\n",
       "    .dataframe tbody tr th {\n",
       "        vertical-align: top;\n",
       "    }\n",
       "\n",
       "    .dataframe thead th {\n",
       "        text-align: right;\n",
       "    }\n",
       "</style>\n",
       "<table border=\"1\" class=\"dataframe\">\n",
       "  <thead>\n",
       "    <tr style=\"text-align: right;\">\n",
       "      <th></th>\n",
       "      <th>Area Name</th>\n",
       "      <th>Area Type</th>\n",
       "      <th>Year</th>\n",
       "      <th>Variable</th>\n",
       "      <th>Value</th>\n",
       "    </tr>\n",
       "  </thead>\n",
       "  <tbody>\n",
       "    <tr>\n",
       "      <th>0</th>\n",
       "      <td>Jackson County</td>\n",
       "      <td>County</td>\n",
       "      <td>1990</td>\n",
       "      <td>Domestic Water Use from Indiv. Wells (000,000 ...</td>\n",
       "      <td>0.0</td>\n",
       "    </tr>\n",
       "    <tr>\n",
       "      <th>1</th>\n",
       "      <td>Jackson County</td>\n",
       "      <td>County</td>\n",
       "      <td>1990</td>\n",
       "      <td>Water Use by Self-Supplied Industry (000,000 G...</td>\n",
       "      <td>0.0</td>\n",
       "    </tr>\n",
       "    <tr>\n",
       "      <th>2</th>\n",
       "      <td>Jackson County</td>\n",
       "      <td>County</td>\n",
       "      <td>1985</td>\n",
       "      <td>Total Water Use (000,000 Gals/Day)</td>\n",
       "      <td>3.0</td>\n",
       "    </tr>\n",
       "    <tr>\n",
       "      <th>3</th>\n",
       "      <td>Jackson County</td>\n",
       "      <td>County</td>\n",
       "      <td>2014</td>\n",
       "      <td>Volatile Organic Compound Emis. from Pt Source...</td>\n",
       "      <td>43.0</td>\n",
       "    </tr>\n",
       "    <tr>\n",
       "      <th>4</th>\n",
       "      <td>Jackson County</td>\n",
       "      <td>County</td>\n",
       "      <td>2016</td>\n",
       "      <td>Carbon Monoxide Emissions from Point Sources (...</td>\n",
       "      <td>195.0</td>\n",
       "    </tr>\n",
       "    <tr>\n",
       "      <th>...</th>\n",
       "      <td>...</td>\n",
       "      <td>...</td>\n",
       "      <td>...</td>\n",
       "      <td>...</td>\n",
       "      <td>...</td>\n",
       "    </tr>\n",
       "    <tr>\n",
       "      <th>66202</th>\n",
       "      <td>Yancey County</td>\n",
       "      <td>County</td>\n",
       "      <td>2002</td>\n",
       "      <td>Volatile Organic Compounds Point Sources EPA (...</td>\n",
       "      <td>12.0</td>\n",
       "    </tr>\n",
       "    <tr>\n",
       "      <th>66203</th>\n",
       "      <td>Yancey County</td>\n",
       "      <td>County</td>\n",
       "      <td>2008</td>\n",
       "      <td>Sulphur Dioxide Emissions from Point Sources E...</td>\n",
       "      <td>5.0</td>\n",
       "    </tr>\n",
       "    <tr>\n",
       "      <th>66204</th>\n",
       "      <td>Yancey County</td>\n",
       "      <td>County</td>\n",
       "      <td>2008</td>\n",
       "      <td>Particulate Matter &lt;2.5micr Point Sources EPA ...</td>\n",
       "      <td>0.0</td>\n",
       "    </tr>\n",
       "    <tr>\n",
       "      <th>66205</th>\n",
       "      <td>Yancey County</td>\n",
       "      <td>County</td>\n",
       "      <td>1990</td>\n",
       "      <td>Yr-Rnd Housing Units/Other Water Source</td>\n",
       "      <td>3601.0</td>\n",
       "    </tr>\n",
       "    <tr>\n",
       "      <th>66206</th>\n",
       "      <td>Yancey County</td>\n",
       "      <td>County</td>\n",
       "      <td>1990</td>\n",
       "      <td>Yr-Rnd Housing Units with Other Sewage Disposa...</td>\n",
       "      <td>586.0</td>\n",
       "    </tr>\n",
       "  </tbody>\n",
       "</table>\n",
       "<p>44650 rows × 5 columns</p>\n",
       "</div>"
      ],
      "text/plain": [
       "            Area Name Area Type  Year  \\\n",
       "0      Jackson County    County  1990   \n",
       "1      Jackson County    County  1990   \n",
       "2      Jackson County    County  1985   \n",
       "3      Jackson County    County  2014   \n",
       "4      Jackson County    County  2016   \n",
       "...               ...       ...   ...   \n",
       "66202   Yancey County    County  2002   \n",
       "66203   Yancey County    County  2008   \n",
       "66204   Yancey County    County  2008   \n",
       "66205   Yancey County    County  1990   \n",
       "66206   Yancey County    County  1990   \n",
       "\n",
       "                                                Variable   Value  \n",
       "0      Domestic Water Use from Indiv. Wells (000,000 ...     0.0  \n",
       "1      Water Use by Self-Supplied Industry (000,000 G...     0.0  \n",
       "2                     Total Water Use (000,000 Gals/Day)     3.0  \n",
       "3      Volatile Organic Compound Emis. from Pt Source...    43.0  \n",
       "4      Carbon Monoxide Emissions from Point Sources (...   195.0  \n",
       "...                                                  ...     ...  \n",
       "66202  Volatile Organic Compounds Point Sources EPA (...    12.0  \n",
       "66203  Sulphur Dioxide Emissions from Point Sources E...     5.0  \n",
       "66204  Particulate Matter <2.5micr Point Sources EPA ...     0.0  \n",
       "66205            Yr-Rnd Housing Units/Other Water Source  3601.0  \n",
       "66206  Yr-Rnd Housing Units with Other Sewage Disposa...   586.0  \n",
       "\n",
       "[44650 rows x 5 columns]"
      ]
     },
     "execution_count": 74,
     "metadata": {},
     "output_type": "execute_result"
    }
   ],
   "source": [
    "county_df"
   ]
  },
  {
   "cell_type": "code",
   "execution_count": 75,
   "metadata": {},
   "outputs": [
    {
     "name": "stdout",
     "output_type": "stream",
     "text": [
      "<class 'pandas.core.frame.DataFrame'>\n",
      "Int64Index: 44650 entries, 0 to 66206\n",
      "Data columns (total 5 columns):\n",
      " #   Column     Non-Null Count  Dtype  \n",
      "---  ------     --------------  -----  \n",
      " 0   Area Name  44650 non-null  object \n",
      " 1   Area Type  44650 non-null  object \n",
      " 2   Year       44650 non-null  int64  \n",
      " 3   Variable   44650 non-null  object \n",
      " 4   Value      44647 non-null  float64\n",
      "dtypes: float64(1), int64(1), object(3)\n",
      "memory usage: 2.0+ MB\n"
     ]
    }
   ],
   "source": [
    "county_df.info()"
   ]
  },
  {
   "cell_type": "code",
   "execution_count": 102,
   "metadata": {},
   "outputs": [],
   "source": [
    "variables = list(county_df['Variable'].unique())"
   ]
  },
  {
   "cell_type": "code",
   "execution_count": 106,
   "metadata": {},
   "outputs": [],
   "source": [
    "variables.sort()"
   ]
  },
  {
   "cell_type": "code",
   "execution_count": 108,
   "metadata": {},
   "outputs": [
    {
     "name": "stdout",
     "output_type": "stream",
     "text": [
      "Ammonia Emissions from Area Sources EPA (Tons)\n",
      "Ammonia Emissions from Point Sources EPA (Tons)\n",
      "Carbon Monoxide Emissions from Area Sources (Tons)\n",
      "Carbon Monoxide Emissions from Area Sources EPA (Tons)\n",
      "Carbon Monoxide Emissions from Point Sources (Tons)\n",
      "Carbon Monoxide Emissions from Point Sources EPA (Tons)\n",
      "Domestic Water Use from Indiv. Wells (000,000 Gals/Day)\n",
      "Establishments - Amuse / Rec Service (Serv) (CBP-SIC)\n",
      "Federal Outdoor Recreation Acreage\n",
      "Hazardous Waste Generated (000 Pounds)\n",
      "Hazardous Waste Treated  (000 Pounds)\n",
      "Local Outdoor Recreation Acreage\n",
      "Municipal & Community Water Use (000,000 Gals/Day)\n",
      "Nitrogen Oxide Emissions from Area Sources (Tons)\n",
      "Nitrogen Oxide Emissions from Area Sources EPA (Tons)\n",
      "Nitrogen Oxide Emissions from Point Sources (Tons)\n",
      "Nitrogen Oxide Emissions from Point Sources EPA (Tons)\n",
      "Particulate Emissions from Area Sources (Tons)\n",
      "Particulate Matter <10micr Point Sources EPA (Tons)\n",
      "Particulate Matter <10micr from Area Sources EPA (Tons)\n",
      "Particulate Matter <2.5micr Area Sources EPA (Tons)\n",
      "Particulate Matter <2.5micr Point Sources EPA (Tons)\n",
      "Particulate Matter Emitted from Point Sources (Tons)\n",
      "State Outdoor Recreation Acreage\n",
      "Sulfur Dioxide Emissions from Area Sources (Tons)\n",
      "Sulfur Dioxide Emissions from Point Sources (Tons)\n",
      "Sulphur Dioxide Emissions from Area Sources EPA (Tons)\n",
      "Sulphur Dioxide Emissions from Point Sources EPA (Tons)\n",
      "Total Water Use (000,000 Gals/Day)\n",
      "Volatile Organic Compound Emis from Area Sources (Tons)\n",
      "Volatile Organic Compound Emis. from Pt Sources  (Tons)\n",
      "Volatile Organic Compounds Area Sources EPA (Tons)\n",
      "Volatile Organic Compounds Point Sources EPA (Tons)\n",
      "Water Use by Livestock (000,000 Gals/Day)\n",
      "Water Use by Self-Supplied Industry (000,000 Gals/Day)\n",
      "Water Use for Irrigation (000,000 Gals/Day)\n",
      "Water Use for Thermoelec. Power Gen. (000,000 Gals/Day)\n",
      "Year-Round Units/Individual Well Primary Water Source\n",
      "Yr-Rnd Housing Units with Other Sewage Disposal Means\n",
      "Yr-Rnd Housing Units with Public Sewer\n",
      "Yr-Rnd Housing Units with Septic Tank or Cesspool\n",
      "Yr-Rnd Housing Units/Other Water Source\n",
      "Yr-Rnd Housing Units/Public or Private Water Source\n"
     ]
    }
   ],
   "source": [
    "for variable in variables:\n",
    "    print(variable)"
   ]
  },
  {
   "cell_type": "code",
   "execution_count": 77,
   "metadata": {},
   "outputs": [
    {
     "data": {
      "text/html": [
       "<div>\n",
       "<style scoped>\n",
       "    .dataframe tbody tr th:only-of-type {\n",
       "        vertical-align: middle;\n",
       "    }\n",
       "\n",
       "    .dataframe tbody tr th {\n",
       "        vertical-align: top;\n",
       "    }\n",
       "\n",
       "    .dataframe thead th {\n",
       "        text-align: right;\n",
       "    }\n",
       "</style>\n",
       "<table border=\"1\" class=\"dataframe\">\n",
       "  <thead>\n",
       "    <tr style=\"text-align: right;\">\n",
       "      <th></th>\n",
       "      <th>County Code</th>\n",
       "      <th>County</th>\n",
       "    </tr>\n",
       "  </thead>\n",
       "  <tbody>\n",
       "    <tr>\n",
       "      <th>0</th>\n",
       "      <td>37001</td>\n",
       "      <td>Alamance County</td>\n",
       "    </tr>\n",
       "    <tr>\n",
       "      <th>1</th>\n",
       "      <td>37003</td>\n",
       "      <td>Alexander County</td>\n",
       "    </tr>\n",
       "    <tr>\n",
       "      <th>2</th>\n",
       "      <td>37005</td>\n",
       "      <td>Alleghany County</td>\n",
       "    </tr>\n",
       "    <tr>\n",
       "      <th>3</th>\n",
       "      <td>37007</td>\n",
       "      <td>Anson County</td>\n",
       "    </tr>\n",
       "    <tr>\n",
       "      <th>4</th>\n",
       "      <td>37009</td>\n",
       "      <td>Ashe County</td>\n",
       "    </tr>\n",
       "  </tbody>\n",
       "</table>\n",
       "</div>"
      ],
      "text/plain": [
       "   County Code            County\n",
       "0        37001   Alamance County\n",
       "1        37003  Alexander County\n",
       "2        37005  Alleghany County\n",
       "3        37007      Anson County\n",
       "4        37009       Ashe County"
      ]
     },
     "execution_count": 77,
     "metadata": {},
     "output_type": "execute_result"
    }
   ],
   "source": [
    "nc_fips.head()"
   ]
  },
  {
   "cell_type": "code",
   "execution_count": 78,
   "metadata": {},
   "outputs": [],
   "source": [
    "county = list(nc_fips['County'])\n",
    "code = list(nc_fips['County Code'])\n",
    "nc_codes = dict(zip(county, code))"
   ]
  },
  {
   "cell_type": "code",
   "execution_count": 79,
   "metadata": {},
   "outputs": [
    {
     "data": {
      "text/plain": [
       "107"
      ]
     },
     "execution_count": 79,
     "metadata": {},
     "output_type": "execute_result"
    }
   ],
   "source": [
    "# Should be 100\n",
    "len(county_df['Area Name'].unique())"
   ]
  },
  {
   "cell_type": "code",
   "execution_count": 80,
   "metadata": {},
   "outputs": [
    {
     "data": {
      "text/plain": [
       "array(['Jackson County', 'Johnston County', 'Jones County', 'Lee County',\n",
       "       'Lenoir County', 'Lincoln County', 'Macon County',\n",
       "       'Madison County', 'Martin County', 'McDowell County',\n",
       "       'Mecklenburg County', 'Mitchell County', 'Montgomery County',\n",
       "       'Moore County', 'Nash County', 'Navassa', 'New Hanover County',\n",
       "       'New London', 'Newland', 'Newton', 'Newton Grove',\n",
       "       'Northampton County', 'Onslow County', 'Orange County',\n",
       "       'Pamlico County', 'Pasquotank County', 'Pender County',\n",
       "       'Perquimans County', 'Person County', 'Pitt County', 'Polk County',\n",
       "       'Randolph County', 'Richmond County', 'Robeson County',\n",
       "       'Rockingham County', 'Rowan County', 'Rutherford County',\n",
       "       'Sampson County', 'Scotland County', 'Caldwell County',\n",
       "       'Camden County', 'Carteret County', 'Caswell County',\n",
       "       'Catawba County', 'Chatham County', 'Cherokee County',\n",
       "       'Chowan County', 'Clay County', 'Cleveland County',\n",
       "       'Columbus County', 'Craven County', 'Cumberland County',\n",
       "       'Currituck County', 'Dare County', 'Davidson County',\n",
       "       'Davie County', 'Duplin County', 'Durham County',\n",
       "       'Edgecombe County', 'Forsyth County', 'Franklin County',\n",
       "       'Gaston County', 'Gates County', 'Granville County',\n",
       "       'Greene County', 'Guilford County', 'Halifax County',\n",
       "       'Harnett County', 'Haywood County', 'Henderson County',\n",
       "       'Hertford County', 'Hoke County', 'Hyde County', 'Iredell County',\n",
       "       'Alamance County', 'Alexander County', 'Alleghany County',\n",
       "       'Anson County', 'Ashe County', 'Avery County', 'Beaufort County',\n",
       "       'Bertie County', 'Bladen County', 'Brunswick County',\n",
       "       'Buncombe County', 'Burke County', 'Cabarrus County',\n",
       "       'Stanly County', 'Stokes County', 'Surry County', 'Swain County',\n",
       "       'Transylvania County', 'Tyrrell County', 'Union County',\n",
       "       'Vance County', 'Wake County', 'Warren County',\n",
       "       'Washington County', 'Watauga County', 'Wayne County',\n",
       "       'Wilkes County', 'Wilson County', 'Yadkin County', 'Yancey County',\n",
       "       'Nashville', 'New Bern', 'Newport'], dtype=object)"
      ]
     },
     "execution_count": 80,
     "metadata": {},
     "output_type": "execute_result"
    }
   ],
   "source": [
    "county_df['Area Name'].unique()"
   ]
  },
  {
   "cell_type": "markdown",
   "metadata": {},
   "source": [
    "# seems to be missing Graham County. With a 2010 population of 8,861 (wikipedia), it is probably safe to assume they do not have significant emissions."
   ]
  },
  {
   "cell_type": "code",
   "execution_count": 81,
   "metadata": {},
   "outputs": [
    {
     "data": {
      "text/plain": [
       "array(['Municipality'], dtype=object)"
      ]
     },
     "execution_count": 81,
     "metadata": {},
     "output_type": "execute_result"
    }
   ],
   "source": [
    "# Graham Country isn't even present in original dataset\n",
    "df[df['Area Name'] == 'Graham']['Area Type'].unique()"
   ]
  },
  {
   "cell_type": "code",
   "execution_count": 82,
   "metadata": {},
   "outputs": [
    {
     "data": {
      "text/plain": [
       "array(['County'], dtype=object)"
      ]
     },
     "execution_count": 82,
     "metadata": {},
     "output_type": "execute_result"
    }
   ],
   "source": [
    "county_df['Area Type'].unique()"
   ]
  },
  {
   "cell_type": "code",
   "execution_count": 83,
   "metadata": {},
   "outputs": [],
   "source": [
    "remove = ['New Bern', 'Newport', 'Nashville', 'Navassa', 'New London', 'Newland', 'Newton', 'Newton Grove']"
   ]
  },
  {
   "cell_type": "code",
   "execution_count": 84,
   "metadata": {},
   "outputs": [],
   "source": [
    "county_df['Area Name'] = county_df['Area Name'].apply(lambda x: np.nan if x in remove else x)"
   ]
  },
  {
   "cell_type": "code",
   "execution_count": 85,
   "metadata": {},
   "outputs": [],
   "source": [
    "county_df.dropna(inplace = True)"
   ]
  },
  {
   "cell_type": "code",
   "execution_count": 86,
   "metadata": {},
   "outputs": [],
   "source": [
    "county_df['fips'] = county_df['Area Name'].apply(lambda x: nc_codes[x])"
   ]
  },
  {
   "cell_type": "code",
   "execution_count": 89,
   "metadata": {},
   "outputs": [
    {
     "data": {
      "text/plain": [
       "99"
      ]
     },
     "execution_count": 89,
     "metadata": {},
     "output_type": "execute_result"
    }
   ],
   "source": [
    "# Should be 100, 99 if we're missing Graham county\n",
    "len(county_df['Area Name'].unique())"
   ]
  },
  {
   "cell_type": "code",
   "execution_count": null,
   "metadata": {},
   "outputs": [],
   "source": []
  },
  {
   "cell_type": "code",
   "execution_count": 109,
   "metadata": {},
   "outputs": [],
   "source": [
    "co_epa_df = county_df[county_df['Variable'] == 'Carbon Monoxide Emissions from Area Sources EPA (Tons)']"
   ]
  },
  {
   "cell_type": "code",
   "execution_count": 118,
   "metadata": {},
   "outputs": [
    {
     "name": "stdout",
     "output_type": "stream",
     "text": [
      "<class 'pandas.core.frame.DataFrame'>\n",
      "Int64Index: 1188 entries, 66180 to 34985\n",
      "Data columns (total 6 columns):\n",
      " #   Column     Non-Null Count  Dtype  \n",
      "---  ------     --------------  -----  \n",
      " 0   Area Name  1188 non-null   object \n",
      " 1   Area Type  1188 non-null   object \n",
      " 2   Year       1188 non-null   int64  \n",
      " 3   Variable   1188 non-null   object \n",
      " 4   Value      1188 non-null   float64\n",
      " 5   fips       1188 non-null   int64  \n",
      "dtypes: float64(1), int64(2), object(3)\n",
      "memory usage: 65.0+ KB\n"
     ]
    }
   ],
   "source": [
    "co_epa_df = co_epa_df.sort_values(by = 'Year')\n",
    "co_epa_df.info()"
   ]
  },
  {
   "cell_type": "code",
   "execution_count": 119,
   "metadata": {},
   "outputs": [
    {
     "name": "stdout",
     "output_type": "stream",
     "text": [
      "<class 'pandas.core.frame.DataFrame'>\n",
      "Int64Index: 297 entries, 425 to 66059\n",
      "Data columns (total 6 columns):\n",
      " #   Column     Non-Null Count  Dtype  \n",
      "---  ------     --------------  -----  \n",
      " 0   Area Name  297 non-null    object \n",
      " 1   Area Type  297 non-null    object \n",
      " 2   Year       297 non-null    int64  \n",
      " 3   Variable   297 non-null    object \n",
      " 4   Value      297 non-null    float64\n",
      " 5   fips       297 non-null    int64  \n",
      "dtypes: float64(1), int64(2), object(3)\n",
      "memory usage: 16.2+ KB\n"
     ]
    }
   ],
   "source": [
    "co_df = county_df[county_df['Variable'] == 'Carbon Monoxide Emissions from Area Sources (Tons)']\n",
    "co_df.sort_values(by = 'Year')\n",
    "co_df.info()"
   ]
  },
  {
   "cell_type": "code",
   "execution_count": 120,
   "metadata": {},
   "outputs": [
    {
     "name": "stdout",
     "output_type": "stream",
     "text": [
      "[1990 1996 1997 1998 1999 2000 2001 2002 2005 2008 2011 2014]\n",
      "[1985 1986 1990]\n"
     ]
    }
   ],
   "source": [
    "print(co_epa_df['Year'].unique())\n",
    "print(co_df['Year'].unique())"
   ]
  },
  {
   "cell_type": "markdown",
   "metadata": {},
   "source": [
    "### So the EPA version has a lot more data, and it is much more recent.  We'll use that. "
   ]
  },
  {
   "cell_type": "code",
   "execution_count": 121,
   "metadata": {},
   "outputs": [],
   "source": [
    "import plotly.express as px\n",
    "from urllib.request import urlopen\n",
    "import json\n",
    "with urlopen('https://raw.githubusercontent.com/plotly/datasets/master/geojson-counties-fips.json') as response:\n",
    "        counties = json.load(response)"
   ]
  },
  {
   "cell_type": "markdown",
   "metadata": {},
   "source": [
    "fig = px.choropleth(co_epa_df, geojson=counties, locations='fips', color='Value',\n",
    "                           color_continuous_scale=\"Viridis\",\n",
    "                           animation_frame = 'Year',\n",
    "                           #range_color=(0, 12),\n",
    "                           scope=\"usa\",\n",
    "                           title=\"NC Carbon Monoxide Emissions By County\",\n",
    "                           labels={'Value':'CO Emission (Tons)'}\n",
    "                          )\n",
    "fig.update_geos(fitbounds=\"locations\", visible=False)\n",
    "fig.update_layout(margin={\"r\":0,\"t\":0,\"l\":0,\"b\":0})\n",
    "fig.show()"
   ]
  },
  {
   "cell_type": "markdown",
   "metadata": {},
   "source": [
    "### What happened in 2008 and 2011??!!"
   ]
  },
  {
   "cell_type": "code",
   "execution_count": null,
   "metadata": {},
   "outputs": [],
   "source": []
  },
  {
   "cell_type": "code",
   "execution_count": null,
   "metadata": {},
   "outputs": [],
   "source": []
  }
 ],
 "metadata": {
  "kernelspec": {
   "display_name": "Python 3",
   "language": "python",
   "name": "python3"
  },
  "language_info": {
   "codemirror_mode": {
    "name": "ipython",
    "version": 3
   },
   "file_extension": ".py",
   "mimetype": "text/x-python",
   "name": "python",
   "nbconvert_exporter": "python",
   "pygments_lexer": "ipython3",
   "version": "3.6.9"
  }
 },
 "nbformat": 4,
 "nbformat_minor": 4
}
