{
 "cells": [
  {
   "cell_type": "markdown",
   "metadata": {},
   "source": [
    "Big Question: Which counties hurt the environment the most overall? Per capita?\n",
    "\n",
    "Questions:  \n",
    "        1) Which counties emit the most gas? (by specific gas?)\n",
    "        2)"
   ]
  },
  {
   "cell_type": "code",
   "execution_count": 1,
   "metadata": {},
   "outputs": [],
   "source": [
    "import numpy as np\n",
    "import pandas as pd\n",
    "import seaborn as sns\n",
    "import matplotlib.pyplot as plt\n",
    "import plotly.figure_factory as ff"
   ]
  },
  {
   "cell_type": "code",
   "execution_count": 2,
   "metadata": {},
   "outputs": [],
   "source": [
    "df = pd.read_csv('environment-recreation-and-resources-linc.csv', sep = ';')\n",
    "county_df = df[df['Area Type'] == 'County']\n",
    "nc_fips = pd.read_csv('nc_county_fips.csv')"
   ]
  },
  {
   "cell_type": "code",
   "execution_count": 3,
   "metadata": {},
   "outputs": [
    {
     "data": {
      "text/html": [
       "<div>\n",
       "<style scoped>\n",
       "    .dataframe tbody tr th:only-of-type {\n",
       "        vertical-align: middle;\n",
       "    }\n",
       "\n",
       "    .dataframe tbody tr th {\n",
       "        vertical-align: top;\n",
       "    }\n",
       "\n",
       "    .dataframe thead th {\n",
       "        text-align: right;\n",
       "    }\n",
       "</style>\n",
       "<table border=\"1\" class=\"dataframe\">\n",
       "  <thead>\n",
       "    <tr style=\"text-align: right;\">\n",
       "      <th></th>\n",
       "      <th>Area Name</th>\n",
       "      <th>Area Type</th>\n",
       "      <th>Year</th>\n",
       "      <th>Variable</th>\n",
       "      <th>Value</th>\n",
       "    </tr>\n",
       "  </thead>\n",
       "  <tbody>\n",
       "    <tr>\n",
       "      <th>0</th>\n",
       "      <td>Jackson County</td>\n",
       "      <td>County</td>\n",
       "      <td>1990</td>\n",
       "      <td>Domestic Water Use from Indiv. Wells (000,000 ...</td>\n",
       "      <td>0.0</td>\n",
       "    </tr>\n",
       "    <tr>\n",
       "      <th>1</th>\n",
       "      <td>Jackson County</td>\n",
       "      <td>County</td>\n",
       "      <td>1990</td>\n",
       "      <td>Water Use by Self-Supplied Industry (000,000 G...</td>\n",
       "      <td>0.0</td>\n",
       "    </tr>\n",
       "    <tr>\n",
       "      <th>2</th>\n",
       "      <td>Jackson County</td>\n",
       "      <td>County</td>\n",
       "      <td>1985</td>\n",
       "      <td>Total Water Use (000,000 Gals/Day)</td>\n",
       "      <td>3.0</td>\n",
       "    </tr>\n",
       "    <tr>\n",
       "      <th>3</th>\n",
       "      <td>Jackson County</td>\n",
       "      <td>County</td>\n",
       "      <td>2014</td>\n",
       "      <td>Volatile Organic Compound Emis. from Pt Source...</td>\n",
       "      <td>43.0</td>\n",
       "    </tr>\n",
       "    <tr>\n",
       "      <th>4</th>\n",
       "      <td>Jackson County</td>\n",
       "      <td>County</td>\n",
       "      <td>2016</td>\n",
       "      <td>Carbon Monoxide Emissions from Point Sources (...</td>\n",
       "      <td>195.0</td>\n",
       "    </tr>\n",
       "    <tr>\n",
       "      <th>...</th>\n",
       "      <td>...</td>\n",
       "      <td>...</td>\n",
       "      <td>...</td>\n",
       "      <td>...</td>\n",
       "      <td>...</td>\n",
       "    </tr>\n",
       "    <tr>\n",
       "      <th>66202</th>\n",
       "      <td>Yancey County</td>\n",
       "      <td>County</td>\n",
       "      <td>2002</td>\n",
       "      <td>Volatile Organic Compounds Point Sources EPA (...</td>\n",
       "      <td>12.0</td>\n",
       "    </tr>\n",
       "    <tr>\n",
       "      <th>66203</th>\n",
       "      <td>Yancey County</td>\n",
       "      <td>County</td>\n",
       "      <td>2008</td>\n",
       "      <td>Sulphur Dioxide Emissions from Point Sources E...</td>\n",
       "      <td>5.0</td>\n",
       "    </tr>\n",
       "    <tr>\n",
       "      <th>66204</th>\n",
       "      <td>Yancey County</td>\n",
       "      <td>County</td>\n",
       "      <td>2008</td>\n",
       "      <td>Particulate Matter &lt;2.5micr Point Sources EPA ...</td>\n",
       "      <td>0.0</td>\n",
       "    </tr>\n",
       "    <tr>\n",
       "      <th>66205</th>\n",
       "      <td>Yancey County</td>\n",
       "      <td>County</td>\n",
       "      <td>1990</td>\n",
       "      <td>Yr-Rnd Housing Units/Other Water Source</td>\n",
       "      <td>3601.0</td>\n",
       "    </tr>\n",
       "    <tr>\n",
       "      <th>66206</th>\n",
       "      <td>Yancey County</td>\n",
       "      <td>County</td>\n",
       "      <td>1990</td>\n",
       "      <td>Yr-Rnd Housing Units with Other Sewage Disposa...</td>\n",
       "      <td>586.0</td>\n",
       "    </tr>\n",
       "  </tbody>\n",
       "</table>\n",
       "<p>44650 rows × 5 columns</p>\n",
       "</div>"
      ],
      "text/plain": [
       "            Area Name Area Type  Year  \\\n",
       "0      Jackson County    County  1990   \n",
       "1      Jackson County    County  1990   \n",
       "2      Jackson County    County  1985   \n",
       "3      Jackson County    County  2014   \n",
       "4      Jackson County    County  2016   \n",
       "...               ...       ...   ...   \n",
       "66202   Yancey County    County  2002   \n",
       "66203   Yancey County    County  2008   \n",
       "66204   Yancey County    County  2008   \n",
       "66205   Yancey County    County  1990   \n",
       "66206   Yancey County    County  1990   \n",
       "\n",
       "                                                Variable   Value  \n",
       "0      Domestic Water Use from Indiv. Wells (000,000 ...     0.0  \n",
       "1      Water Use by Self-Supplied Industry (000,000 G...     0.0  \n",
       "2                     Total Water Use (000,000 Gals/Day)     3.0  \n",
       "3      Volatile Organic Compound Emis. from Pt Source...    43.0  \n",
       "4      Carbon Monoxide Emissions from Point Sources (...   195.0  \n",
       "...                                                  ...     ...  \n",
       "66202  Volatile Organic Compounds Point Sources EPA (...    12.0  \n",
       "66203  Sulphur Dioxide Emissions from Point Sources E...     5.0  \n",
       "66204  Particulate Matter <2.5micr Point Sources EPA ...     0.0  \n",
       "66205            Yr-Rnd Housing Units/Other Water Source  3601.0  \n",
       "66206  Yr-Rnd Housing Units with Other Sewage Disposa...   586.0  \n",
       "\n",
       "[44650 rows x 5 columns]"
      ]
     },
     "execution_count": 3,
     "metadata": {},
     "output_type": "execute_result"
    }
   ],
   "source": [
    "county_df"
   ]
  },
  {
   "cell_type": "code",
   "execution_count": 4,
   "metadata": {},
   "outputs": [
    {
     "name": "stdout",
     "output_type": "stream",
     "text": [
      "<class 'pandas.core.frame.DataFrame'>\n",
      "Int64Index: 44650 entries, 0 to 66206\n",
      "Data columns (total 5 columns):\n",
      " #   Column     Non-Null Count  Dtype  \n",
      "---  ------     --------------  -----  \n",
      " 0   Area Name  44650 non-null  object \n",
      " 1   Area Type  44650 non-null  object \n",
      " 2   Year       44650 non-null  int64  \n",
      " 3   Variable   44650 non-null  object \n",
      " 4   Value      44647 non-null  float64\n",
      "dtypes: float64(1), int64(1), object(3)\n",
      "memory usage: 2.0+ MB\n"
     ]
    }
   ],
   "source": [
    "county_df.info()"
   ]
  },
  {
   "cell_type": "code",
   "execution_count": 5,
   "metadata": {},
   "outputs": [
    {
     "data": {
      "text/plain": [
       "array(['Domestic Water Use from Indiv. Wells (000,000 Gals/Day)',\n",
       "       'Water Use by Self-Supplied Industry (000,000 Gals/Day)',\n",
       "       'Total Water Use (000,000 Gals/Day)',\n",
       "       'Volatile Organic Compound Emis. from Pt Sources  (Tons)',\n",
       "       'Carbon Monoxide Emissions from Point Sources (Tons)',\n",
       "       'Particulate Matter Emitted from Point Sources (Tons)',\n",
       "       'Sulphur Dioxide Emissions from Area Sources EPA (Tons)',\n",
       "       'Nitrogen Oxide Emissions from Point Sources (Tons)',\n",
       "       'Sulfur Dioxide Emissions from Point Sources (Tons)',\n",
       "       'Carbon Monoxide Emissions from Area Sources EPA (Tons)',\n",
       "       'Ammonia Emissions from Area Sources EPA (Tons)',\n",
       "       'Nitrogen Oxide Emissions from Area Sources EPA (Tons)',\n",
       "       'Particulate Matter <10micr from Area Sources EPA (Tons)',\n",
       "       'Volatile Organic Compounds Area Sources EPA (Tons)',\n",
       "       'Sulfur Dioxide Emissions from Area Sources (Tons)',\n",
       "       'Volatile Organic Compound Emis from Area Sources (Tons)',\n",
       "       'Volatile Organic Compounds Point Sources EPA (Tons)',\n",
       "       'Carbon Monoxide Emissions from Point Sources EPA (Tons)',\n",
       "       'Ammonia Emissions from Point Sources EPA (Tons)',\n",
       "       'Particulate Matter <2.5micr Point Sources EPA (Tons)',\n",
       "       'Particulate Matter <10micr Point Sources EPA (Tons)',\n",
       "       'Sulphur Dioxide Emissions from Point Sources EPA (Tons)',\n",
       "       'Yr-Rnd Housing Units with Other Sewage Disposal Means',\n",
       "       'Local Outdoor Recreation Acreage',\n",
       "       'Hazardous Waste Treated  (000 Pounds)',\n",
       "       'Establishments - Amuse / Rec Service (Serv) (CBP-SIC)',\n",
       "       'Hazardous Waste Generated (000 Pounds)',\n",
       "       'Federal Outdoor Recreation Acreage',\n",
       "       'Municipal & Community Water Use (000,000 Gals/Day)',\n",
       "       'Water Use for Thermoelec. Power Gen. (000,000 Gals/Day)',\n",
       "       'Water Use for Irrigation (000,000 Gals/Day)',\n",
       "       'Particulate Emissions from Area Sources (Tons)',\n",
       "       'Nitrogen Oxide Emissions from Point Sources EPA (Tons)',\n",
       "       'Year-Round Units/Individual Well Primary Water Source',\n",
       "       'Yr-Rnd Housing Units with Public Sewer',\n",
       "       'Particulate Matter <2.5micr Area Sources EPA (Tons)',\n",
       "       'Yr-Rnd Housing Units/Other Water Source',\n",
       "       'Yr-Rnd Housing Units/Public or Private Water Source',\n",
       "       'State Outdoor Recreation Acreage',\n",
       "       'Water Use by Livestock (000,000 Gals/Day)',\n",
       "       'Nitrogen Oxide Emissions from Area Sources (Tons)',\n",
       "       'Carbon Monoxide Emissions from Area Sources (Tons)',\n",
       "       'Yr-Rnd Housing Units with Septic Tank or Cesspool'], dtype=object)"
      ]
     },
     "execution_count": 5,
     "metadata": {},
     "output_type": "execute_result"
    }
   ],
   "source": [
    "county_df['Variable'].unique()"
   ]
  },
  {
   "cell_type": "code",
   "execution_count": 6,
   "metadata": {},
   "outputs": [
    {
     "data": {
      "text/html": [
       "<div>\n",
       "<style scoped>\n",
       "    .dataframe tbody tr th:only-of-type {\n",
       "        vertical-align: middle;\n",
       "    }\n",
       "\n",
       "    .dataframe tbody tr th {\n",
       "        vertical-align: top;\n",
       "    }\n",
       "\n",
       "    .dataframe thead th {\n",
       "        text-align: right;\n",
       "    }\n",
       "</style>\n",
       "<table border=\"1\" class=\"dataframe\">\n",
       "  <thead>\n",
       "    <tr style=\"text-align: right;\">\n",
       "      <th></th>\n",
       "      <th>County Code</th>\n",
       "      <th>County</th>\n",
       "    </tr>\n",
       "  </thead>\n",
       "  <tbody>\n",
       "    <tr>\n",
       "      <th>0</th>\n",
       "      <td>1</td>\n",
       "      <td>Alamance County</td>\n",
       "    </tr>\n",
       "    <tr>\n",
       "      <th>1</th>\n",
       "      <td>3</td>\n",
       "      <td>Alexander County</td>\n",
       "    </tr>\n",
       "    <tr>\n",
       "      <th>2</th>\n",
       "      <td>5</td>\n",
       "      <td>Alleghany County</td>\n",
       "    </tr>\n",
       "    <tr>\n",
       "      <th>3</th>\n",
       "      <td>7</td>\n",
       "      <td>Anson County</td>\n",
       "    </tr>\n",
       "    <tr>\n",
       "      <th>4</th>\n",
       "      <td>9</td>\n",
       "      <td>Ashe County</td>\n",
       "    </tr>\n",
       "  </tbody>\n",
       "</table>\n",
       "</div>"
      ],
      "text/plain": [
       "   County Code            County\n",
       "0            1   Alamance County\n",
       "1            3  Alexander County\n",
       "2            5  Alleghany County\n",
       "3            7      Anson County\n",
       "4            9       Ashe County"
      ]
     },
     "execution_count": 6,
     "metadata": {},
     "output_type": "execute_result"
    }
   ],
   "source": [
    "nc_fips.head()"
   ]
  },
  {
   "cell_type": "code",
   "execution_count": 7,
   "metadata": {},
   "outputs": [],
   "source": [
    "county = list(nc_fips['County'])\n",
    "code = list(nc_fips['County Code'])\n",
    "nc_codes = dict(zip(county, code))"
   ]
  },
  {
   "cell_type": "code",
   "execution_count": 8,
   "metadata": {},
   "outputs": [
    {
     "ename": "KeyError",
     "evalue": "'Navassa'",
     "output_type": "error",
     "traceback": [
      "\u001b[0;31m---------------------------------------------------------------------------\u001b[0m",
      "\u001b[0;31mKeyError\u001b[0m                                  Traceback (most recent call last)",
      "\u001b[0;32m<ipython-input-8-2fc017de3edb>\u001b[0m in \u001b[0;36m<module>\u001b[0;34m\u001b[0m\n\u001b[0;32m----> 1\u001b[0;31m \u001b[0mcounty_df\u001b[0m\u001b[0;34m[\u001b[0m\u001b[0;34m'fips'\u001b[0m\u001b[0;34m]\u001b[0m \u001b[0;34m=\u001b[0m \u001b[0mcounty_df\u001b[0m\u001b[0;34m[\u001b[0m\u001b[0;34m'Area Name'\u001b[0m\u001b[0;34m]\u001b[0m\u001b[0;34m.\u001b[0m\u001b[0mapply\u001b[0m\u001b[0;34m(\u001b[0m\u001b[0;32mlambda\u001b[0m \u001b[0mx\u001b[0m\u001b[0;34m:\u001b[0m \u001b[0mnc_codes\u001b[0m\u001b[0;34m[\u001b[0m\u001b[0mx\u001b[0m\u001b[0;34m]\u001b[0m\u001b[0;34m)\u001b[0m\u001b[0;34m\u001b[0m\u001b[0;34m\u001b[0m\u001b[0m\n\u001b[0m",
      "\u001b[0;32m~/DataScience/DSenv/lib/python3.6/site-packages/pandas/core/series.py\u001b[0m in \u001b[0;36mapply\u001b[0;34m(self, func, convert_dtype, args, **kwds)\u001b[0m\n\u001b[1;32m   4198\u001b[0m             \u001b[0;32melse\u001b[0m\u001b[0;34m:\u001b[0m\u001b[0;34m\u001b[0m\u001b[0;34m\u001b[0m\u001b[0m\n\u001b[1;32m   4199\u001b[0m                 \u001b[0mvalues\u001b[0m \u001b[0;34m=\u001b[0m \u001b[0mself\u001b[0m\u001b[0;34m.\u001b[0m\u001b[0mastype\u001b[0m\u001b[0;34m(\u001b[0m\u001b[0mobject\u001b[0m\u001b[0;34m)\u001b[0m\u001b[0;34m.\u001b[0m\u001b[0m_values\u001b[0m\u001b[0;34m\u001b[0m\u001b[0;34m\u001b[0m\u001b[0m\n\u001b[0;32m-> 4200\u001b[0;31m                 \u001b[0mmapped\u001b[0m \u001b[0;34m=\u001b[0m \u001b[0mlib\u001b[0m\u001b[0;34m.\u001b[0m\u001b[0mmap_infer\u001b[0m\u001b[0;34m(\u001b[0m\u001b[0mvalues\u001b[0m\u001b[0;34m,\u001b[0m \u001b[0mf\u001b[0m\u001b[0;34m,\u001b[0m \u001b[0mconvert\u001b[0m\u001b[0;34m=\u001b[0m\u001b[0mconvert_dtype\u001b[0m\u001b[0;34m)\u001b[0m\u001b[0;34m\u001b[0m\u001b[0;34m\u001b[0m\u001b[0m\n\u001b[0m\u001b[1;32m   4201\u001b[0m \u001b[0;34m\u001b[0m\u001b[0m\n\u001b[1;32m   4202\u001b[0m         \u001b[0;32mif\u001b[0m \u001b[0mlen\u001b[0m\u001b[0;34m(\u001b[0m\u001b[0mmapped\u001b[0m\u001b[0;34m)\u001b[0m \u001b[0;32mand\u001b[0m \u001b[0misinstance\u001b[0m\u001b[0;34m(\u001b[0m\u001b[0mmapped\u001b[0m\u001b[0;34m[\u001b[0m\u001b[0;36m0\u001b[0m\u001b[0;34m]\u001b[0m\u001b[0;34m,\u001b[0m \u001b[0mSeries\u001b[0m\u001b[0;34m)\u001b[0m\u001b[0;34m:\u001b[0m\u001b[0;34m\u001b[0m\u001b[0;34m\u001b[0m\u001b[0m\n",
      "\u001b[0;32mpandas/_libs/lib.pyx\u001b[0m in \u001b[0;36mpandas._libs.lib.map_infer\u001b[0;34m()\u001b[0m\n",
      "\u001b[0;32m<ipython-input-8-2fc017de3edb>\u001b[0m in \u001b[0;36m<lambda>\u001b[0;34m(x)\u001b[0m\n\u001b[0;32m----> 1\u001b[0;31m \u001b[0mcounty_df\u001b[0m\u001b[0;34m[\u001b[0m\u001b[0;34m'fips'\u001b[0m\u001b[0;34m]\u001b[0m \u001b[0;34m=\u001b[0m \u001b[0mcounty_df\u001b[0m\u001b[0;34m[\u001b[0m\u001b[0;34m'Area Name'\u001b[0m\u001b[0;34m]\u001b[0m\u001b[0;34m.\u001b[0m\u001b[0mapply\u001b[0m\u001b[0;34m(\u001b[0m\u001b[0;32mlambda\u001b[0m \u001b[0mx\u001b[0m\u001b[0;34m:\u001b[0m \u001b[0mnc_codes\u001b[0m\u001b[0;34m[\u001b[0m\u001b[0mx\u001b[0m\u001b[0;34m]\u001b[0m\u001b[0;34m)\u001b[0m\u001b[0;34m\u001b[0m\u001b[0;34m\u001b[0m\u001b[0m\n\u001b[0m",
      "\u001b[0;31mKeyError\u001b[0m: 'Navassa'"
     ]
    }
   ],
   "source": [
    "county_df['fips'] = county_df['Area Name'].apply(lambda x: nc_codes[x])"
   ]
  },
  {
   "cell_type": "code",
   "execution_count": 20,
   "metadata": {},
   "outputs": [
    {
     "data": {
      "text/plain": [
       "107"
      ]
     },
     "execution_count": 20,
     "metadata": {},
     "output_type": "execute_result"
    }
   ],
   "source": [
    "# Should be 100\n",
    "len(county_df['Area Name'].unique())"
   ]
  },
  {
   "cell_type": "code",
   "execution_count": 21,
   "metadata": {},
   "outputs": [
    {
     "data": {
      "text/plain": [
       "array(['Jackson County', 'Johnston County', 'Jones County', 'Lee County',\n",
       "       'Lenoir County', 'Lincoln County', 'Macon County',\n",
       "       'Madison County', 'Martin County', 'McDowell County',\n",
       "       'Mecklenburg County', 'Mitchell County', 'Montgomery County',\n",
       "       'Moore County', 'Nash County', 'Navassa', 'New Hanover County',\n",
       "       'New London', 'Newland', 'Newton', 'Newton Grove',\n",
       "       'Northampton County', 'Onslow County', 'Orange County',\n",
       "       'Pamlico County', 'Pasquotank County', 'Pender County',\n",
       "       'Perquimans County', 'Person County', 'Pitt County', 'Polk County',\n",
       "       'Randolph County', 'Richmond County', 'Robeson County',\n",
       "       'Rockingham County', 'Rowan County', 'Rutherford County',\n",
       "       'Sampson County', 'Scotland County', 'Caldwell County',\n",
       "       'Camden County', 'Carteret County', 'Caswell County',\n",
       "       'Catawba County', 'Chatham County', 'Cherokee County',\n",
       "       'Chowan County', 'Clay County', 'Cleveland County',\n",
       "       'Columbus County', 'Craven County', 'Cumberland County',\n",
       "       'Currituck County', 'Dare County', 'Davidson County',\n",
       "       'Davie County', 'Duplin County', 'Durham County',\n",
       "       'Edgecombe County', 'Forsyth County', 'Franklin County',\n",
       "       'Gaston County', 'Gates County', 'Granville County',\n",
       "       'Greene County', 'Guilford County', 'Halifax County',\n",
       "       'Harnett County', 'Haywood County', 'Henderson County',\n",
       "       'Hertford County', 'Hoke County', 'Hyde County', 'Iredell County',\n",
       "       'Alamance County', 'Alexander County', 'Alleghany County',\n",
       "       'Anson County', 'Ashe County', 'Avery County', 'Beaufort County',\n",
       "       'Bertie County', 'Bladen County', 'Brunswick County',\n",
       "       'Buncombe County', 'Burke County', 'Cabarrus County',\n",
       "       'Stanly County', 'Stokes County', 'Surry County', 'Swain County',\n",
       "       'Transylvania County', 'Tyrrell County', 'Union County',\n",
       "       'Vance County', 'Wake County', 'Warren County',\n",
       "       'Washington County', 'Watauga County', 'Wayne County',\n",
       "       'Wilkes County', 'Wilson County', 'Yadkin County', 'Yancey County',\n",
       "       'Nashville', 'New Bern', 'Newport'], dtype=object)"
      ]
     },
     "execution_count": 21,
     "metadata": {},
     "output_type": "execute_result"
    }
   ],
   "source": [
    "county_df['Area Name'].unique()"
   ]
  },
  {
   "cell_type": "code",
   "execution_count": 22,
   "metadata": {},
   "outputs": [
    {
     "data": {
      "text/plain": [
       "array(['County'], dtype=object)"
      ]
     },
     "execution_count": 22,
     "metadata": {},
     "output_type": "execute_result"
    }
   ],
   "source": [
    "county_df['Area Type'].unique()"
   ]
  },
  {
   "cell_type": "code",
   "execution_count": 23,
   "metadata": {},
   "outputs": [],
   "source": [
    "remove = ['New Bern', 'Newport', 'Nashville', 'Navassa', 'New London', 'Newland', 'Newton', 'Newton Grove']"
   ]
  },
  {
   "cell_type": "code",
   "execution_count": 24,
   "metadata": {},
   "outputs": [],
   "source": [
    "county_df['Area Name'] = county_df['Area Name'].apply(lambda x: np.nan if x in remove else x)"
   ]
  },
  {
   "cell_type": "code",
   "execution_count": 25,
   "metadata": {},
   "outputs": [],
   "source": [
    "county_df.dropna(inplace = True)"
   ]
  },
  {
   "cell_type": "code",
   "execution_count": 26,
   "metadata": {},
   "outputs": [],
   "source": [
    "county_df['fips'] = county_df['Area Name'].apply(lambda x: nc_codes[x])"
   ]
  },
  {
   "cell_type": "code",
   "execution_count": 27,
   "metadata": {},
   "outputs": [
    {
     "data": {
      "text/plain": [
       "99"
      ]
     },
     "execution_count": 27,
     "metadata": {},
     "output_type": "execute_result"
    }
   ],
   "source": [
    "len(county_df['Area Name'].unique())"
   ]
  },
  {
   "cell_type": "code",
   "execution_count": null,
   "metadata": {},
   "outputs": [],
   "source": []
  },
  {
   "cell_type": "code",
   "execution_count": 28,
   "metadata": {},
   "outputs": [],
   "source": [
    "co_df = county_df[county_df['Variable'] == 'Carbon Monoxide Emissions from Area Sources EPA (Tons)']"
   ]
  },
  {
   "cell_type": "code",
   "execution_count": 29,
   "metadata": {},
   "outputs": [
    {
     "data": {
      "text/html": [
       "<div>\n",
       "<style scoped>\n",
       "    .dataframe tbody tr th:only-of-type {\n",
       "        vertical-align: middle;\n",
       "    }\n",
       "\n",
       "    .dataframe tbody tr th {\n",
       "        vertical-align: top;\n",
       "    }\n",
       "\n",
       "    .dataframe thead th {\n",
       "        text-align: right;\n",
       "    }\n",
       "</style>\n",
       "<table border=\"1\" class=\"dataframe\">\n",
       "  <thead>\n",
       "    <tr style=\"text-align: right;\">\n",
       "      <th></th>\n",
       "      <th>Area Name</th>\n",
       "      <th>Area Type</th>\n",
       "      <th>Year</th>\n",
       "      <th>Variable</th>\n",
       "      <th>Value</th>\n",
       "      <th>fips</th>\n",
       "    </tr>\n",
       "  </thead>\n",
       "  <tbody>\n",
       "    <tr>\n",
       "      <th>16</th>\n",
       "      <td>Jackson County</td>\n",
       "      <td>County</td>\n",
       "      <td>2001</td>\n",
       "      <td>Carbon Monoxide Emissions from Area Sources EP...</td>\n",
       "      <td>12751.0</td>\n",
       "      <td>99</td>\n",
       "    </tr>\n",
       "    <tr>\n",
       "      <th>17</th>\n",
       "      <td>Jackson County</td>\n",
       "      <td>County</td>\n",
       "      <td>2000</td>\n",
       "      <td>Carbon Monoxide Emissions from Area Sources EP...</td>\n",
       "      <td>12740.0</td>\n",
       "      <td>99</td>\n",
       "    </tr>\n",
       "    <tr>\n",
       "      <th>97</th>\n",
       "      <td>Johnston County</td>\n",
       "      <td>County</td>\n",
       "      <td>1997</td>\n",
       "      <td>Carbon Monoxide Emissions from Area Sources EP...</td>\n",
       "      <td>70879.0</td>\n",
       "      <td>101</td>\n",
       "    </tr>\n",
       "    <tr>\n",
       "      <th>143</th>\n",
       "      <td>Jones County</td>\n",
       "      <td>County</td>\n",
       "      <td>1999</td>\n",
       "      <td>Carbon Monoxide Emissions from Area Sources EP...</td>\n",
       "      <td>4630.0</td>\n",
       "      <td>103</td>\n",
       "    </tr>\n",
       "    <tr>\n",
       "      <th>252</th>\n",
       "      <td>Lee County</td>\n",
       "      <td>County</td>\n",
       "      <td>2011</td>\n",
       "      <td>Carbon Monoxide Emissions from Area Sources EP...</td>\n",
       "      <td>12695.0</td>\n",
       "      <td>105</td>\n",
       "    </tr>\n",
       "    <tr>\n",
       "      <th>...</th>\n",
       "      <td>...</td>\n",
       "      <td>...</td>\n",
       "      <td>...</td>\n",
       "      <td>...</td>\n",
       "      <td>...</td>\n",
       "      <td>...</td>\n",
       "    </tr>\n",
       "    <tr>\n",
       "      <th>66039</th>\n",
       "      <td>Wilson County</td>\n",
       "      <td>County</td>\n",
       "      <td>2005</td>\n",
       "      <td>Carbon Monoxide Emissions from Area Sources EP...</td>\n",
       "      <td>32187.0</td>\n",
       "      <td>195</td>\n",
       "    </tr>\n",
       "    <tr>\n",
       "      <th>66121</th>\n",
       "      <td>Yadkin County</td>\n",
       "      <td>County</td>\n",
       "      <td>2000</td>\n",
       "      <td>Carbon Monoxide Emissions from Area Sources EP...</td>\n",
       "      <td>17948.0</td>\n",
       "      <td>197</td>\n",
       "    </tr>\n",
       "    <tr>\n",
       "      <th>66172</th>\n",
       "      <td>Yancey County</td>\n",
       "      <td>County</td>\n",
       "      <td>2011</td>\n",
       "      <td>Carbon Monoxide Emissions from Area Sources EP...</td>\n",
       "      <td>5244.0</td>\n",
       "      <td>199</td>\n",
       "    </tr>\n",
       "    <tr>\n",
       "      <th>66179</th>\n",
       "      <td>Yancey County</td>\n",
       "      <td>County</td>\n",
       "      <td>1996</td>\n",
       "      <td>Carbon Monoxide Emissions from Area Sources EP...</td>\n",
       "      <td>7900.0</td>\n",
       "      <td>199</td>\n",
       "    </tr>\n",
       "    <tr>\n",
       "      <th>66180</th>\n",
       "      <td>Yancey County</td>\n",
       "      <td>County</td>\n",
       "      <td>1990</td>\n",
       "      <td>Carbon Monoxide Emissions from Area Sources EP...</td>\n",
       "      <td>10188.0</td>\n",
       "      <td>199</td>\n",
       "    </tr>\n",
       "  </tbody>\n",
       "</table>\n",
       "<p>1188 rows × 6 columns</p>\n",
       "</div>"
      ],
      "text/plain": [
       "             Area Name Area Type  Year  \\\n",
       "16      Jackson County    County  2001   \n",
       "17      Jackson County    County  2000   \n",
       "97     Johnston County    County  1997   \n",
       "143       Jones County    County  1999   \n",
       "252         Lee County    County  2011   \n",
       "...                ...       ...   ...   \n",
       "66039    Wilson County    County  2005   \n",
       "66121    Yadkin County    County  2000   \n",
       "66172    Yancey County    County  2011   \n",
       "66179    Yancey County    County  1996   \n",
       "66180    Yancey County    County  1990   \n",
       "\n",
       "                                                Variable    Value  fips  \n",
       "16     Carbon Monoxide Emissions from Area Sources EP...  12751.0    99  \n",
       "17     Carbon Monoxide Emissions from Area Sources EP...  12740.0    99  \n",
       "97     Carbon Monoxide Emissions from Area Sources EP...  70879.0   101  \n",
       "143    Carbon Monoxide Emissions from Area Sources EP...   4630.0   103  \n",
       "252    Carbon Monoxide Emissions from Area Sources EP...  12695.0   105  \n",
       "...                                                  ...      ...   ...  \n",
       "66039  Carbon Monoxide Emissions from Area Sources EP...  32187.0   195  \n",
       "66121  Carbon Monoxide Emissions from Area Sources EP...  17948.0   197  \n",
       "66172  Carbon Monoxide Emissions from Area Sources EP...   5244.0   199  \n",
       "66179  Carbon Monoxide Emissions from Area Sources EP...   7900.0   199  \n",
       "66180  Carbon Monoxide Emissions from Area Sources EP...  10188.0   199  \n",
       "\n",
       "[1188 rows x 6 columns]"
      ]
     },
     "execution_count": 29,
     "metadata": {},
     "output_type": "execute_result"
    }
   ],
   "source": [
    "co_df"
   ]
  },
  {
   "cell_type": "code",
   "execution_count": 30,
   "metadata": {},
   "outputs": [
    {
     "data": {
      "text/plain": [
       "array([2001, 2000, 1997, 1999, 2011, 1996, 2014, 2005, 2002, 1998, 2008,\n",
       "       1990])"
      ]
     },
     "execution_count": 30,
     "metadata": {},
     "output_type": "execute_result"
    }
   ],
   "source": [
    "co_df['Year'].unique()"
   ]
  },
  {
   "cell_type": "code",
   "execution_count": 31,
   "metadata": {},
   "outputs": [],
   "source": [
    "co_df_2014 = co_df[co_df['Year'] == 2014]"
   ]
  },
  {
   "cell_type": "code",
   "execution_count": 32,
   "metadata": {},
   "outputs": [],
   "source": [
    "co_df_2014.sort_values(by = 'Area Name', inplace = True)"
   ]
  },
  {
   "cell_type": "code",
   "execution_count": 33,
   "metadata": {},
   "outputs": [
    {
     "data": {
      "text/html": [
       "<div>\n",
       "<style scoped>\n",
       "    .dataframe tbody tr th:only-of-type {\n",
       "        vertical-align: middle;\n",
       "    }\n",
       "\n",
       "    .dataframe tbody tr th {\n",
       "        vertical-align: top;\n",
       "    }\n",
       "\n",
       "    .dataframe thead th {\n",
       "        text-align: right;\n",
       "    }\n",
       "</style>\n",
       "<table border=\"1\" class=\"dataframe\">\n",
       "  <thead>\n",
       "    <tr style=\"text-align: right;\">\n",
       "      <th></th>\n",
       "      <th>Area Name</th>\n",
       "      <th>Area Type</th>\n",
       "      <th>Year</th>\n",
       "      <th>Variable</th>\n",
       "      <th>Value</th>\n",
       "      <th>fips</th>\n",
       "    </tr>\n",
       "  </thead>\n",
       "  <tbody>\n",
       "    <tr>\n",
       "      <th>34985</th>\n",
       "      <td>Alamance County</td>\n",
       "      <td>County</td>\n",
       "      <td>2014</td>\n",
       "      <td>Carbon Monoxide Emissions from Area Sources EP...</td>\n",
       "      <td>22028.0</td>\n",
       "      <td>1</td>\n",
       "    </tr>\n",
       "    <tr>\n",
       "      <th>10822</th>\n",
       "      <td>Alexander County</td>\n",
       "      <td>County</td>\n",
       "      <td>2014</td>\n",
       "      <td>Carbon Monoxide Emissions from Area Sources EP...</td>\n",
       "      <td>5746.0</td>\n",
       "      <td>3</td>\n",
       "    </tr>\n",
       "    <tr>\n",
       "      <th>35104</th>\n",
       "      <td>Alleghany County</td>\n",
       "      <td>County</td>\n",
       "      <td>2014</td>\n",
       "      <td>Carbon Monoxide Emissions from Area Sources EP...</td>\n",
       "      <td>2156.0</td>\n",
       "      <td>5</td>\n",
       "    </tr>\n",
       "    <tr>\n",
       "      <th>53716</th>\n",
       "      <td>Anson County</td>\n",
       "      <td>County</td>\n",
       "      <td>2014</td>\n",
       "      <td>Carbon Monoxide Emissions from Area Sources EP...</td>\n",
       "      <td>7038.0</td>\n",
       "      <td>7</td>\n",
       "    </tr>\n",
       "    <tr>\n",
       "      <th>35225</th>\n",
       "      <td>Ashe County</td>\n",
       "      <td>County</td>\n",
       "      <td>2014</td>\n",
       "      <td>Carbon Monoxide Emissions from Area Sources EP...</td>\n",
       "      <td>4643.0</td>\n",
       "      <td>9</td>\n",
       "    </tr>\n",
       "  </tbody>\n",
       "</table>\n",
       "</div>"
      ],
      "text/plain": [
       "              Area Name Area Type  Year  \\\n",
       "34985   Alamance County    County  2014   \n",
       "10822  Alexander County    County  2014   \n",
       "35104  Alleghany County    County  2014   \n",
       "53716      Anson County    County  2014   \n",
       "35225       Ashe County    County  2014   \n",
       "\n",
       "                                                Variable    Value  fips  \n",
       "34985  Carbon Monoxide Emissions from Area Sources EP...  22028.0     1  \n",
       "10822  Carbon Monoxide Emissions from Area Sources EP...   5746.0     3  \n",
       "35104  Carbon Monoxide Emissions from Area Sources EP...   2156.0     5  \n",
       "53716  Carbon Monoxide Emissions from Area Sources EP...   7038.0     7  \n",
       "35225  Carbon Monoxide Emissions from Area Sources EP...   4643.0     9  "
      ]
     },
     "execution_count": 33,
     "metadata": {},
     "output_type": "execute_result"
    }
   ],
   "source": [
    "co_df_2014.head()"
   ]
  },
  {
   "cell_type": "code",
   "execution_count": null,
   "metadata": {},
   "outputs": [],
   "source": []
  },
  {
   "cell_type": "code",
   "execution_count": null,
   "metadata": {},
   "outputs": [],
   "source": []
  },
  {
   "cell_type": "code",
   "execution_count": 34,
   "metadata": {},
   "outputs": [
    {
     "ename": "ImportError",
     "evalue": "geopandas, pyshp and shapely must be installed for this figure factory.\n\nRun the following commands to install the correct versions of the following modules:\n\n```\n$ pip install geopandas==0.3.0\n$ pip install pyshp==1.2.10\n$ pip install shapely==1.6.3\n```\nIf you are using Windows, follow this post to properly install geopandas and dependencies:http://geoffboeing.com/2014/09/using-geopandas-windows/\n\nIf you are using Anaconda, do not use PIP to install the packages above. Instead use conda to install them:\n\n```\n$ conda install plotly\n$ conda install geopandas\n```",
     "output_type": "error",
     "traceback": [
      "\u001b[0;31m---------------------------------------------------------------------------\u001b[0m",
      "\u001b[0;31mImportError\u001b[0m                               Traceback (most recent call last)",
      "\u001b[0;32m<ipython-input-34-f02868cb4d8a>\u001b[0m in \u001b[0;36m<module>\u001b[0;34m\u001b[0m\n\u001b[1;32m     13\u001b[0m     \u001b[0masp\u001b[0m \u001b[0;34m=\u001b[0m \u001b[0;36m2.9\u001b[0m\u001b[0;34m,\u001b[0m\u001b[0;34m\u001b[0m\u001b[0;34m\u001b[0m\u001b[0m\n\u001b[1;32m     14\u001b[0m     \u001b[0mtitle_text\u001b[0m \u001b[0;34m=\u001b[0m \u001b[0;34m'USA by Unemployment %'\u001b[0m\u001b[0;34m,\u001b[0m\u001b[0;34m\u001b[0m\u001b[0;34m\u001b[0m\u001b[0m\n\u001b[0;32m---> 15\u001b[0;31m     \u001b[0mlegend_title\u001b[0m \u001b[0;34m=\u001b[0m \u001b[0;34m'% unemployed'\u001b[0m\u001b[0;34m\u001b[0m\u001b[0;34m\u001b[0m\u001b[0m\n\u001b[0m\u001b[1;32m     16\u001b[0m )\n\u001b[1;32m     17\u001b[0m \u001b[0mfig\u001b[0m\u001b[0;34m.\u001b[0m\u001b[0mlayout\u001b[0m\u001b[0;34m.\u001b[0m\u001b[0mtemplate\u001b[0m \u001b[0;34m=\u001b[0m \u001b[0;32mNone\u001b[0m\u001b[0;34m\u001b[0m\u001b[0;34m\u001b[0m\u001b[0m\n",
      "\u001b[0;32m~/DataScience/DSenv/lib/python3.6/site-packages/plotly/figure_factory/_county_choropleth.py\u001b[0m in \u001b[0;36mcreate_choropleth\u001b[0;34m(fips, values, scope, binning_endpoints, colorscale, order, simplify_county, simplify_state, asp, show_hover, show_state_data, state_outline, county_outline, centroid_marker, round_legend_values, exponent_format, legend_title, **layout_options)\u001b[0m\n\u001b[1;32m    618\u001b[0m     \u001b[0;32mif\u001b[0m \u001b[0;32mnot\u001b[0m \u001b[0mgp\u001b[0m \u001b[0;32mor\u001b[0m \u001b[0;32mnot\u001b[0m \u001b[0mshapefile\u001b[0m \u001b[0;32mor\u001b[0m \u001b[0;32mnot\u001b[0m \u001b[0mshapely\u001b[0m\u001b[0;34m:\u001b[0m\u001b[0;34m\u001b[0m\u001b[0;34m\u001b[0m\u001b[0m\n\u001b[1;32m    619\u001b[0m         raise ImportError(\n\u001b[0;32m--> 620\u001b[0;31m             \u001b[0;34m\"geopandas, pyshp and shapely must be installed for this figure \"\u001b[0m\u001b[0;34m\u001b[0m\u001b[0;34m\u001b[0m\u001b[0m\n\u001b[0m\u001b[1;32m    621\u001b[0m             \u001b[0;34m\"factory.\\n\\nRun the following commands to install the correct \"\u001b[0m\u001b[0;34m\u001b[0m\u001b[0;34m\u001b[0m\u001b[0m\n\u001b[1;32m    622\u001b[0m             \u001b[0;34m\"versions of the following modules:\\n\\n\"\u001b[0m\u001b[0;34m\u001b[0m\u001b[0;34m\u001b[0m\u001b[0m\n",
      "\u001b[0;31mImportError\u001b[0m: geopandas, pyshp and shapely must be installed for this figure factory.\n\nRun the following commands to install the correct versions of the following modules:\n\n```\n$ pip install geopandas==0.3.0\n$ pip install pyshp==1.2.10\n$ pip install shapely==1.6.3\n```\nIf you are using Windows, follow this post to properly install geopandas and dependencies:http://geoffboeing.com/2014/09/using-geopandas-windows/\n\nIf you are using Anaconda, do not use PIP to install the packages above. Instead use conda to install them:\n\n```\n$ conda install plotly\n$ conda install geopandas\n```"
     ]
    }
   ],
   "source": [
    "values = co_df_2014['Value'].tolist()\n",
    "fips = co_df_2014['fips'].tolist()\n",
    "\n",
    "colorscale = [\"#030512\",\"#1d1d3b\",\"#323268\",\"#3d4b94\",\"#3e6ab0\",\n",
    "              \"#4989bc\",\"#60a7c7\",\"#85c5d3\",\"#b7e0e4\",\"#eafcfd\"]\n",
    "endpts = list(np.linspace(1, 12, len(colorscale) - 1))\n",
    "\n",
    "fig = ff.create_choropleth(\n",
    "    fips=fips, values=values, scope=['North Carolina'],\n",
    "    binning_endpoints=endpts, colorscale=colorscale,\n",
    "    show_state_data=False,\n",
    "    show_hover=True,\n",
    "    asp = 2.9,\n",
    "    title_text = 'USA by Unemployment %',\n",
    "    legend_title = '% unemployed'\n",
    ")\n",
    "fig.layout.template = None\n",
    "fig.show()"
   ]
  },
  {
   "cell_type": "code",
   "execution_count": null,
   "metadata": {},
   "outputs": [],
   "source": []
  },
  {
   "cell_type": "code",
   "execution_count": null,
   "metadata": {},
   "outputs": [],
   "source": []
  },
  {
   "cell_type": "code",
   "execution_count": null,
   "metadata": {},
   "outputs": [],
   "source": []
  },
  {
   "cell_type": "code",
   "execution_count": null,
   "metadata": {},
   "outputs": [],
   "source": []
  },
  {
   "cell_type": "code",
   "execution_count": null,
   "metadata": {},
   "outputs": [],
   "source": []
  },
  {
   "cell_type": "code",
   "execution_count": null,
   "metadata": {},
   "outputs": [],
   "source": []
  },
  {
   "cell_type": "code",
   "execution_count": null,
   "metadata": {},
   "outputs": [],
   "source": []
  },
  {
   "cell_type": "code",
   "execution_count": null,
   "metadata": {},
   "outputs": [],
   "source": []
  },
  {
   "cell_type": "code",
   "execution_count": null,
   "metadata": {},
   "outputs": [],
   "source": []
  },
  {
   "cell_type": "code",
   "execution_count": null,
   "metadata": {},
   "outputs": [],
   "source": []
  },
  {
   "cell_type": "code",
   "execution_count": null,
   "metadata": {},
   "outputs": [],
   "source": []
  },
  {
   "cell_type": "code",
   "execution_count": null,
   "metadata": {},
   "outputs": [],
   "source": []
  }
 ],
 "metadata": {
  "kernelspec": {
   "display_name": "Python 3",
   "language": "python",
   "name": "python3"
  },
  "language_info": {
   "codemirror_mode": {
    "name": "ipython",
    "version": 3
   },
   "file_extension": ".py",
   "mimetype": "text/x-python",
   "name": "python",
   "nbconvert_exporter": "python",
   "pygments_lexer": "ipython3",
   "version": "3.6.9"
  }
 },
 "nbformat": 4,
 "nbformat_minor": 4
}
